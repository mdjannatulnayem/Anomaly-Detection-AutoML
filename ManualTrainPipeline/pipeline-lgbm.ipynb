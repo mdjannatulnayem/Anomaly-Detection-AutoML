{
 "cells": [
  {
   "cell_type": "markdown",
   "metadata": {},
   "source": [
    "# Training Pipeline (LightGBM)\n",
    "Machine Learning-Based Credit Card Transaction Fraud Detection"
   ]
  },
  {
   "cell_type": "code",
   "execution_count": null,
   "metadata": {},
   "outputs": [],
   "source": [
    "import numpy as np\n",
    "import pandas as pd\n",
    "import matplotlib.pylab as plt\n",
    "from sklearn.model_selection import train_test_split\n",
    "from sklearn.metrics import confusion_matrix\n",
    "from sklearn.metrics import roc_auc_score\n",
    "from sklearn.metrics import precision_recall_fscore_support\n",
    "from sklearn.metrics import log_loss,accuracy_score\n",
    "from sklearn.preprocessing import LabelEncoder\n",
    "from sklearn.preprocessing import StandardScaler\n",
    "import seaborn as sns\n",
    "from datetime import datetime\n",
    "import lightgbm as lgbm"
   ]
  },
  {
   "cell_type": "code",
   "execution_count": null,
   "metadata": {},
   "outputs": [],
   "source": [
    "# read in the dataset\n",
    "df = pd.read_csv('../Dataset/card-transaction-dataset.csv')"
   ]
  },
  {
   "cell_type": "code",
   "execution_count": null,
   "metadata": {},
   "outputs": [],
   "source": [
    "# check distribution\n",
    "df['Class'].value_counts()"
   ]
  },
  {
   "cell_type": "code",
   "execution_count": null,
   "metadata": {},
   "outputs": [],
   "source": [
    "# encoding categorical data\n",
    "y = df['Class']\n",
    "\n",
    "label_encoder = LabelEncoder()\n",
    "Y = label_encoder.fit_transform(y)\n",
    "print(Y[500:600])"
   ]
  },
  {
   "cell_type": "code",
   "execution_count": null,
   "metadata": {},
   "outputs": [],
   "source": [
    "X = df.drop(labels = ['Time','Class'],axis=1)\n",
    "print(X.head)"
   ]
  },
  {
   "cell_type": "code",
   "execution_count": null,
   "metadata": {},
   "outputs": [],
   "source": [
    "# Extract column names\n",
    "feature_names = np.array(X.columns)"
   ]
  },
  {
   "cell_type": "code",
   "execution_count": null,
   "metadata": {},
   "outputs": [],
   "source": [
    "# Normalize the data\n",
    "scaler = StandardScaler()\n",
    "scaler.fit(X)\n",
    "X = scaler.transform(X)"
   ]
  },
  {
   "cell_type": "code",
   "execution_count": null,
   "metadata": {},
   "outputs": [],
   "source": [
    "# Split dataset into train test chucks\n",
    "X_train,X_test,Y_train,Y_test = train_test_split(X,Y,test_size=0.2,random_state=6)"
   ]
  },
  {
   "cell_type": "code",
   "execution_count": null,
   "metadata": {},
   "outputs": [],
   "source": [
    "# Let's do LGBM\n",
    "d_train = lgbm.Dataset(X_train,label=Y_train)\n",
    "\n",
    "lgbm_params = {'learning_rate':0.05,\n",
    "               'boosting_type':'gbdt',\n",
    "               'objective':'binary',\n",
    "               'metric':['binary_logloss'],\n",
    "               'num_leaves':80,'max_depth':10\n",
    "               }\n",
    "\n",
    "start = datetime.now()\n",
    "classifier = lgbm.train(lgbm_params,d_train,50)\n",
    "stop = datetime.now()\n",
    "train_time = stop - start\n",
    "print(\"Training duration :\",train_time)"
   ]
  },
  {
   "cell_type": "code",
   "execution_count": null,
   "metadata": {},
   "outputs": [],
   "source": [
    "# Let's make predictions\n",
    "Y_pred_lgbm = classifier.predict(X_test)\n",
    "\n",
    "for i in range(0,X_test.shape[0]):\n",
    "    if Y_pred_lgbm[i] >= .5:\n",
    "        Y_pred_lgbm[i] = 1\n",
    "    else:\n",
    "        Y_pred_lgbm[i] = 0\n",
    "\n",
    "\n",
    "print(\"///Metrics\")\n",
    "print(\"Log loss:\",log_loss(Y_test,Y_pred_lgbm))\n",
    "print(\"Accuracy:\",accuracy_score(Y_test,Y_pred_lgbm))"
   ]
  },
  {
   "cell_type": "code",
   "execution_count": null,
   "metadata": {},
   "outputs": [],
   "source": [
    "# create the confusion matrix\n",
    "cf_lgbm = confusion_matrix(Y_test,Y_pred_lgbm)\n",
    "print(cf_lgbm)\n",
    "precision,recall,fscore,_ = precision_recall_fscore_support(Y_test,Y_pred_lgbm)\n",
    "print(\"Precission :\",precision)\n",
    "print(\"Recall :\",recall)\n",
    "print(\"F1-score :\",fscore)\n",
    "sns.heatmap(cf_lgbm,annot=True)"
   ]
  }
 ],
 "metadata": {
  "kernelspec": {
   "display_name": "Python 3",
   "language": "python",
   "name": "python3"
  },
  "language_info": {
   "codemirror_mode": {
    "name": "ipython",
    "version": 3
   },
   "file_extension": ".py",
   "mimetype": "text/x-python",
   "name": "python",
   "nbconvert_exporter": "python",
   "pygments_lexer": "ipython3",
   "version": "3.10.13"
  }
 },
 "nbformat": 4,
 "nbformat_minor": 2
}
