{
 "cells": [
  {
   "cell_type": "markdown",
   "metadata": {},
   "source": [
    "# Training Pipeline (LightGBM)\n",
    "Machine Learning-Based Credit Card Transaction Fraud Detection"
   ]
  },
  {
   "cell_type": "code",
   "execution_count": 9,
   "metadata": {
    "vscode": {
     "languageId": "powershell"
    }
   },
   "outputs": [],
   "source": [
    "# uncomment if not installed already\n",
    "# pip install pandas; pip install matplotlib; pip install sklearn; pip install lightgbm"
   ]
  },
  {
   "cell_type": "code",
   "execution_count": 2,
   "metadata": {},
   "outputs": [],
   "source": [
    "import numpy as np\n",
    "import pandas as pd\n",
    "import matplotlib.pylab as plt\n",
    "from sklearn.model_selection import train_test_split\n",
    "from sklearn.metrics import confusion_matrix\n",
    "from sklearn.metrics import roc_auc_score\n",
    "from sklearn.metrics import precision_recall_fscore_support\n",
    "from sklearn.metrics import log_loss\n",
    "from sklearn.preprocessing import LabelEncoder\n",
    "from sklearn.preprocessing import StandardScaler\n",
    "import seaborn as sns\n",
    "import lightgbm as lgbm\n",
    "from datetime import datetime"
   ]
  },
  {
   "cell_type": "code",
   "execution_count": 3,
   "metadata": {},
   "outputs": [],
   "source": [
    "# read in the dataset\n",
    "df = pd.read_csv('../Dataset/card-transaction-dataset.csv')"
   ]
  },
  {
   "cell_type": "code",
   "execution_count": 12,
   "metadata": {},
   "outputs": [
    {
     "data": {
      "text/plain": [
       "Class\n",
       "0    284315\n",
       "1       492\n",
       "Name: count, dtype: int64"
      ]
     },
     "execution_count": 12,
     "metadata": {},
     "output_type": "execute_result"
    }
   ],
   "source": [
    "# check distribution\n",
    "df['Class'].value_counts()"
   ]
  },
  {
   "cell_type": "code",
   "execution_count": 4,
   "metadata": {},
   "outputs": [
    {
     "name": "stdout",
     "output_type": "stream",
     "text": [
      "[0 0 0 0 0 0 0 0 0 0 0 0 0 0 0 0 0 0 0 0 0 0 0 0 0 0 0 0 0 0 0 0 0 0 0 0 0\n",
      " 0 0 0 0 1 0 0 0 0 0 0 0 0 0 0 0 0 0 0 0 0 0 0 0 0 0 0 0 0 0 0 0 0 0 0 0 0\n",
      " 0 0 0 0 0 0 0 0 0 0 0 0 0 0 0 0 0 0 0 0 0 0 0 0 0 0]\n"
     ]
    }
   ],
   "source": [
    "# encoding categorical data\n",
    "y = df['Class']\n",
    "\n",
    "label_encoder = LabelEncoder()\n",
    "Y = label_encoder.fit_transform(y)\n",
    "print(Y[500:600])"
   ]
  },
  {
   "cell_type": "code",
   "execution_count": 5,
   "metadata": {},
   "outputs": [
    {
     "name": "stdout",
     "output_type": "stream",
     "text": [
      "<bound method NDFrame.head of                V1         V2        V3        V4        V5        V6   \n",
      "0       -1.359807  -0.072781  2.536347  1.378155 -0.338321  0.462388  \\\n",
      "1        1.191857   0.266151  0.166480  0.448154  0.060018 -0.082361   \n",
      "2       -1.358354  -1.340163  1.773209  0.379780 -0.503198  1.800499   \n",
      "3       -0.966272  -0.185226  1.792993 -0.863291 -0.010309  1.247203   \n",
      "4       -1.158233   0.877737  1.548718  0.403034 -0.407193  0.095921   \n",
      "...           ...        ...       ...       ...       ...       ...   \n",
      "284802 -11.881118  10.071785 -9.834783 -2.066656 -5.364473 -2.606837   \n",
      "284803  -0.732789  -0.055080  2.035030 -0.738589  0.868229  1.058415   \n",
      "284804   1.919565  -0.301254 -3.249640 -0.557828  2.630515  3.031260   \n",
      "284805  -0.240440   0.530483  0.702510  0.689799 -0.377961  0.623708   \n",
      "284806  -0.533413  -0.189733  0.703337 -0.506271 -0.012546 -0.649617   \n",
      "\n",
      "              V7        V8        V9       V10  ...       V20       V21   \n",
      "0       0.239599  0.098698  0.363787  0.090794  ...  0.251412 -0.018307  \\\n",
      "1      -0.078803  0.085102 -0.255425 -0.166974  ... -0.069083 -0.225775   \n",
      "2       0.791461  0.247676 -1.514654  0.207643  ...  0.524980  0.247998   \n",
      "3       0.237609  0.377436 -1.387024 -0.054952  ... -0.208038 -0.108300   \n",
      "4       0.592941 -0.270533  0.817739  0.753074  ...  0.408542 -0.009431   \n",
      "...          ...       ...       ...       ...  ...       ...       ...   \n",
      "284802 -4.918215  7.305334  1.914428  4.356170  ...  1.475829  0.213454   \n",
      "284803  0.024330  0.294869  0.584800 -0.975926  ...  0.059616  0.214205   \n",
      "284804 -0.296827  0.708417  0.432454 -0.484782  ...  0.001396  0.232045   \n",
      "284805 -0.686180  0.679145  0.392087 -0.399126  ...  0.127434  0.265245   \n",
      "284806  1.577006 -0.414650  0.486180 -0.915427  ...  0.382948  0.261057   \n",
      "\n",
      "             V22       V23       V24       V25       V26       V27       V28   \n",
      "0       0.277838 -0.110474  0.066928  0.128539 -0.189115  0.133558 -0.021053  \\\n",
      "1      -0.638672  0.101288 -0.339846  0.167170  0.125895 -0.008983  0.014724   \n",
      "2       0.771679  0.909412 -0.689281 -0.327642 -0.139097 -0.055353 -0.059752   \n",
      "3       0.005274 -0.190321 -1.175575  0.647376 -0.221929  0.062723  0.061458   \n",
      "4       0.798278 -0.137458  0.141267 -0.206010  0.502292  0.219422  0.215153   \n",
      "...          ...       ...       ...       ...       ...       ...       ...   \n",
      "284802  0.111864  1.014480 -0.509348  1.436807  0.250034  0.943651  0.823731   \n",
      "284803  0.924384  0.012463 -1.016226 -0.606624 -0.395255  0.068472 -0.053527   \n",
      "284804  0.578229 -0.037501  0.640134  0.265745 -0.087371  0.004455 -0.026561   \n",
      "284805  0.800049 -0.163298  0.123205 -0.569159  0.546668  0.108821  0.104533   \n",
      "284806  0.643078  0.376777  0.008797 -0.473649 -0.818267 -0.002415  0.013649   \n",
      "\n",
      "        Amount  \n",
      "0       149.62  \n",
      "1         2.69  \n",
      "2       378.66  \n",
      "3       123.50  \n",
      "4        69.99  \n",
      "...        ...  \n",
      "284802    0.77  \n",
      "284803   24.79  \n",
      "284804   67.88  \n",
      "284805   10.00  \n",
      "284806  217.00  \n",
      "\n",
      "[284807 rows x 29 columns]>\n"
     ]
    }
   ],
   "source": [
    "X = df.drop(labels = ['Time','Class'],axis=1)\n",
    "print(X.head)"
   ]
  },
  {
   "cell_type": "code",
   "execution_count": 6,
   "metadata": {},
   "outputs": [],
   "source": [
    "# Extract column names\n",
    "feature_names = np.array(X.columns)"
   ]
  },
  {
   "cell_type": "code",
   "execution_count": 16,
   "metadata": {},
   "outputs": [],
   "source": [
    "# Normalize the data\n",
    "scaler = StandardScaler()\n",
    "scaler.fit(X)\n",
    "X = scaler.transform(X)"
   ]
  },
  {
   "cell_type": "code",
   "execution_count": 17,
   "metadata": {},
   "outputs": [],
   "source": [
    "# Split dataset into train test chucks\n",
    "X_train,X_test,Y_train,Y_test = train_test_split(X,Y,test_size=0.2,random_state=6)"
   ]
  },
  {
   "cell_type": "code",
   "execution_count": 18,
   "metadata": {},
   "outputs": [
    {
     "name": "stdout",
     "output_type": "stream",
     "text": [
      "[LightGBM] [Info] Number of positive: 394, number of negative: 227451\n",
      "[LightGBM] [Info] Auto-choosing col-wise multi-threading, the overhead of testing was 0.136424 seconds.\n",
      "You can set `force_col_wise=true` to remove the overhead.\n",
      "[LightGBM] [Info] Total Bins 7395\n",
      "[LightGBM] [Info] Number of data points in the train set: 227845, number of used features: 29\n",
      "[LightGBM] [Info] [binary:BoostFromScore]: pavg=0.001729 -> initscore=-6.358339\n",
      "[LightGBM] [Info] Start training from score -6.358339\n",
      "Training duration : 0:00:09.896212\n"
     ]
    }
   ],
   "source": [
    "# Let's do LGBM\n",
    "d_train = lgbm.Dataset(X_train,label=Y_train)\n",
    "\n",
    "lgbm_params = {'learning_rate':0.05,\n",
    "               'boosting_type':'gbdt',\n",
    "               'objective':'binary',\n",
    "               'metric':['binary_logloss'],\n",
    "               'num_leaves':80,'max_depth':10\n",
    "               }\n",
    "\n",
    "start = datetime.now()\n",
    "classifier = lgbm.train(lgbm_params,d_train,50)\n",
    "stop = datetime.now()\n",
    "train_time = stop - start\n",
    "print(\"Training duration :\",train_time)"
   ]
  },
  {
   "cell_type": "code",
   "execution_count": 19,
   "metadata": {},
   "outputs": [
    {
     "name": "stdout",
     "output_type": "stream",
     "text": [
      "0.025943432269825775\n"
     ]
    }
   ],
   "source": [
    "# Let's make predictions\n",
    "Y_pred_lgbm = classifier.predict(X_test)\n",
    "\n",
    "for i in range(0,X_test.shape[0]):\n",
    "    if Y_pred_lgbm[i] >= .5:\n",
    "        Y_pred_lgbm[i] = 1\n",
    "    else:\n",
    "        Y_pred_lgbm[i] = 0\n",
    "\n",
    "print(log_loss(Y_test,Y_pred_lgbm))"
   ]
  },
  {
   "cell_type": "code",
   "execution_count": 20,
   "metadata": {},
   "outputs": [
    {
     "name": "stdout",
     "output_type": "stream",
     "text": [
      "[[56845    19]\n",
      " [   22    76]]\n",
      "Precission : [0.99961313 0.8       ]\n",
      "Recall : [0.99966587 0.7755102 ]\n",
      "F1-score : [0.9996395  0.78756477]\n"
     ]
    },
    {
     "data": {
      "text/plain": [
       "<Axes: >"
      ]
     },
     "execution_count": 20,
     "metadata": {},
     "output_type": "execute_result"
    },
    {
     "data": {
      "image/png": "[encoded data removed]",
      "text/plain": [
       "<Figure size 640x480 with 2 Axes>"
      ]
     },
     "metadata": {},
     "output_type": "display_data"
    }
   ],
   "source": [
    "# create the confusion matrix\n",
    "cf_lgbm = confusion_matrix(Y_test,Y_pred_lgbm)\n",
    "print(cf_lgbm)\n",
    "precision,recall,fscore,_ = precision_recall_fscore_support(Y_test,Y_pred_lgbm)\n",
    "print(\"Precission :\",precision)\n",
    "print(\"Recall :\",recall)\n",
    "print(\"F1-score :\",fscore)\n",
    "sns.heatmap(cf_lgbm,annot=True)"
   ]
  }
 ],
 "metadata": {
  "kernelspec": {
   "display_name": "Python 3",
   "language": "python",
   "name": "python3"
  },
  "language_info": {
   "codemirror_mode": {
    "name": "ipython",
    "version": 3
   },
   "file_extension": ".py",
   "mimetype": "text/x-python",
   "name": "python",
   "nbconvert_exporter": "python",
   "pygments_lexer": "ipython3",
   "version": "3.11.3"
  }
 },
 "nbformat": 4,
 "nbformat_minor": 2
}
